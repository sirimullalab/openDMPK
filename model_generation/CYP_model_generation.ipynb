{
 "cells": [
  {
   "cell_type": "code",
   "execution_count": null,
   "metadata": {},
   "outputs": [],
   "source": [
    "import pandas as pd\n",
    "import sys\n",
    "\n",
    "sys.path.append(\"../utilities/\")\n",
    "from utility import ModelGenerator\n",
    "import glob\n",
    "import os\n",
    "import re"
   ]
  },
  {
   "cell_type": "code",
   "execution_count": null,
   "metadata": {},
   "outputs": [],
   "source": [
    "def add_class(label):\n",
    "    if label == \"non-inhibitor\":\n",
    "        return 0\n",
    "    else:\n",
    "        return 1"
   ]
  },
  {
   "cell_type": "code",
   "execution_count": null,
   "metadata": {},
   "outputs": [],
   "source": [
    "training_files = glob.glob(r\"../datasets/CYP_inhibitor/Train*\")\n",
    "print(training_files)"
   ]
  },
  {
   "cell_type": "code",
   "execution_count": null,
   "metadata": {},
   "outputs": [],
   "source": [
    "testing_files = glob.glob(r\"../datasets/CYP_inhibitor/Valid*\")\n",
    "print(testing_files)"
   ]
  },
  {
   "cell_type": "code",
   "execution_count": null,
   "metadata": {},
   "outputs": [],
   "source": [
    "cyp_train_test_dict=dict()\n",
    "\n",
    "for path1 in training_files:\n",
    "    m1=re.search(r\"CYP[a-zA-Z0-9]{3,4}\", path1)\n",
    "    CYP=m1.group()\n",
    "    \n",
    "    for path2 in testing_files:\n",
    "        m2=re.search(CYP, path2)\n",
    "        if (m2):\n",
    "            cyp_train_test_dict[CYP]=(path1, path2)\n",
    "print(cyp_train_test_dict)"
   ]
  },
  {
   "cell_type": "code",
   "execution_count": null,
   "metadata": {},
   "outputs": [],
   "source": [
    "for CYP in cyp_train_test_dict:\n",
    "    \n",
    "    train_path=cyp_train_test_dict[CYP][0]\n",
    "    test_path=cyp_train_test_dict[CYP][1]\n",
    "    \n",
    "    train_df=pd.read_excel(train_path)\n",
    "    test_df=pd.read_excel(test_path)\n",
    "    \n",
    "    train_df[\"CLASS\"]=train_df.Labels.apply(add_class)\n",
    "    test_df[\"CLASS\"]=test_df.Labels.apply(add_class)\n",
    "    \n",
    "    train_df.to_excel(train_path, index=False)\n",
    "    test_df.to_excel(test_path, index=False)\n",
    "    "
   ]
  },
  {
   "cell_type": "code",
   "execution_count": null,
   "metadata": {},
   "outputs": [],
   "source": [
    "for CYP in cyp_train_test_dict:\n",
    "    print(\"Training and Testing for: {}\".format(CYP))\n",
    "    \n",
    "    train_path=cyp_train_test_dict[CYP][0]\n",
    "    test_path=cyp_train_test_dict[CYP][1]\n",
    "    \n",
    "    cypmodels=ModelGenerator()\n",
    "    cypmodels.train_test(train_path,\n",
    "                    \"SMILES\",\n",
    "                    \"CLASS\",\n",
    "                    test_path,\n",
    "                    \"SMILES\",\n",
    "                    \"CLASS\")"
   ]
  },
  {
   "cell_type": "code",
   "execution_count": null,
   "metadata": {},
   "outputs": [],
   "source": [
    "# CYP1A2_train_df=pd.read_excel(r\"../datasets/CYP_inhibitor/TrainSet_CYP1A2.xls\")"
   ]
  },
  {
   "cell_type": "code",
   "execution_count": null,
   "metadata": {},
   "outputs": [],
   "source": [
    "# CYP1A2_train_df"
   ]
  },
  {
   "cell_type": "code",
   "execution_count": null,
   "metadata": {},
   "outputs": [],
   "source": [
    "# CYP1A2_test_df=pd.read_excel(r\"../datasets/CYP_inhibitor/ValidationSet_CYP1A2.xls\")"
   ]
  },
  {
   "cell_type": "code",
   "execution_count": null,
   "metadata": {},
   "outputs": [],
   "source": [
    "# CYP1A2_test_df"
   ]
  },
  {
   "cell_type": "code",
   "execution_count": null,
   "metadata": {},
   "outputs": [],
   "source": [
    "# CYP1A2_train_df[\"CLASS\"]=CYP1A2_train_df.Labels.apply(add_class)\n",
    "# CYP1A2_test_df[\"CLASS\"]=CYP1A2_test_df.Labels.apply(add_class)\n"
   ]
  },
  {
   "cell_type": "code",
   "execution_count": null,
   "metadata": {},
   "outputs": [],
   "source": [
    "# CYP1A2_train_df.to_excel(r\"../datasets/CYP_inhibitor/TrainSet_CYP1A2.xls\", index=False)\n",
    "# CYP1A2_test_df.to_excel(r\"../datasets/CYP_inhibitor/ValidationSet_CYP1A2.xls\", index=False)"
   ]
  },
  {
   "cell_type": "code",
   "execution_count": null,
   "metadata": {},
   "outputs": [],
   "source": [
    "# small_train_df=pd.concat([CYP1A2_train_df.iloc[0:10], CYP1A2_train_df.iloc[-11:-1]])\n",
    "# small_test_df=pd.concat([CYP1A2_test_df.iloc[0:10], CYP1A2_test_df.iloc[-11:-1]])\n",
    "# small_train_df.to_excel(\"../datasets/CYP_inhibitor/small_train.xls\")\n",
    "# small_test_df.to_excel(\"../datasets/CYP_inhibitor/small_test.xls\")"
   ]
  },
  {
   "cell_type": "code",
   "execution_count": null,
   "metadata": {},
   "outputs": [],
   "source": [
    "# cypmodels=ModelGenerator()\n",
    "# cypmodels.train_test(r\"../datasets/CYP_inhibitor/small_train.xls\",\n",
    "#                     \"SMILES\",\n",
    "#                     \"CLASS\",\n",
    "#                     r\"../datasets/CYP_inhibitor/small_test.xls\",\n",
    "#                     \"SMILES\",\n",
    "#                     \"CLASS\")"
   ]
  }
 ],
 "metadata": {
  "kernelspec": {
   "display_name": "Python 3 (ipykernel)",
   "language": "python",
   "name": "python3"
  },
  "language_info": {
   "codemirror_mode": {
    "name": "ipython",
    "version": 3
   },
   "file_extension": ".py",
   "mimetype": "text/x-python",
   "name": "python",
   "nbconvert_exporter": "python",
   "pygments_lexer": "ipython3",
   "version": "3.9.9"
  }
 },
 "nbformat": 4,
 "nbformat_minor": 2
}
